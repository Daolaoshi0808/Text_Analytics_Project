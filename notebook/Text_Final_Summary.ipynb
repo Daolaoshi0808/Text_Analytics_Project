{
 "cells": [
  {
   "cell_type": "code",
   "execution_count": 5,
   "id": "1d7bc1bb-b6ce-48b6-b990-fec0749576de",
   "metadata": {
    "scrolled": true
   },
   "outputs": [],
   "source": [
    "import nltk\n",
    "import numpy as np\n",
    "from datasets import load_dataset\n",
    "import pandas as pd\n",
    "from nltk.corpus import stopwords\n",
    "from nltk.stem import WordNetLemmatizer\n",
    "from tqdm import tqdm\n",
    "from nltk.tokenize import sent_tokenize, word_tokenize\n",
    "import re\n",
    "import torch\n",
    "from transformers import AutoTokenizer, AutoModel, AutoModelForSeq2SeqLM\n",
    "import sys\n",
    "import os\n",
    "sys.path.append('../app')\n",
    "from legal_summary import legal_summary_pipeline\n"
   ]
  },
  {
   "cell_type": "markdown",
   "id": "61fe8887-edf6-4cae-bb2a-90b522b73d0a",
   "metadata": {},
   "source": [
    "## Downloading the Dataset here"
   ]
  },
  {
   "cell_type": "code",
   "execution_count": 19,
   "id": "89ebc7eb-89c4-45cd-bd09-7666ffb23612",
   "metadata": {},
   "outputs": [],
   "source": [
    "multi_lexsum = load_dataset(\"allenai/multi_lexsum\", name=\"v20230518\", trust_remote_code=True)"
   ]
  },
  {
   "cell_type": "code",
   "execution_count": 20,
   "id": "73c475e5-fbe5-4bf1-b7f6-f7a956327fff",
   "metadata": {},
   "outputs": [],
   "source": [
    "train_df = multi_lexsum['train'].to_pandas()\n",
    "val_df = multi_lexsum['validation'].to_pandas()\n",
    "test_df = multi_lexsum['test'].to_pandas()\n",
    "def extract_case_info(dataset_split):\n",
    "    # Convert to pandas\n",
    "    df = dataset_split.to_pandas()\n",
    "    \n",
    "    # Normalize the nested metadata\n",
    "    meta_df = pd.json_normalize(df[\"case_metadata\"])\n",
    "    \n",
    "    # Concatenate relevant columns\n",
    "    combined_df = pd.concat([\n",
    "        df[\"sources\"],\n",
    "        df[\"summary/long\"],\n",
    "        df[\"summary/short\"],\n",
    "        df[\"summary/tiny\"],\n",
    "        meta_df[[\"class_action_sought\", \"case_type\"]]\n",
    "    ], axis=1)\n",
    "    \n",
    "    return pd.DataFrame(combined_df.rename(columns={\n",
    "        \"sources\": \"full_case\",\n",
    "        \"summary/long\": \"summary_long\",\n",
    "        \"summary/short\": \"summary_short\",\n",
    "        \"summary/tiny\": \"summary_tiny\"\n",
    "    }))\n",
    "\n",
    "# Apply to train/val/test\n",
    "train_cases_df = extract_case_info(multi_lexsum['train'])\n",
    "val_cases_df = extract_case_info(multi_lexsum['validation'])\n",
    "test_cases_df = extract_case_info(multi_lexsum['test'])\n"
   ]
  },
  {
   "cell_type": "code",
   "execution_count": 23,
   "id": "9c90d0f4-2b93-4975-9a0e-86fffa47acdd",
   "metadata": {},
   "outputs": [
    {
     "name": "stderr",
     "output_type": "stream",
     "text": [
      "Cleaning cases: 100%|██████████████████████████████████████████████████████████████| 3177/3177 [03:56<00:00, 13.44it/s]\n",
      "Summarizing cases (batch size: 16):   0%|                                                      | 0/199 [00:00<?, ?it/s]C:\\Users\\hongk\\anaconda3\\Lib\\site-packages\\transformers\\models\\bart\\modeling_bart.py:597: UserWarning: 1Torch was not compiled with flash attention. (Triggered internally at ..\\aten\\src\\ATen\\native\\transformers\\cuda\\sdp_utils.cpp:455.)\n",
      "  attn_output = torch.nn.functional.scaled_dot_product_attention(\n",
      "Summarizing cases (batch size: 16): 100%|██████████████████████████████████████████| 199/199 [5:30:48<00:00, 99.74s/it]\n"
     ]
    }
   ],
   "source": [
    "\n",
    "your_legal_text = train_cases_df.iloc[range(0,64), :]\n",
    "temp_tiny = legal_summary_pipeline(train_cases_df, summary_style=\"tiny\", batch_size = 16)"
   ]
  },
  {
   "cell_type": "code",
   "execution_count": 25,
   "id": "508c62ad-7ffb-49cc-a9b4-c504492b7ce0",
   "metadata": {},
   "outputs": [],
   "source": [
    "temp_tiny.to_csv('Legal_Summarized_Case_Tiny.csv', index = False)"
   ]
  }
 ],
 "metadata": {
  "kernelspec": {
   "display_name": "Python [conda env:base] *",
   "language": "python",
   "name": "conda-base-py"
  },
  "language_info": {
   "codemirror_mode": {
    "name": "ipython",
    "version": 3
   },
   "file_extension": ".py",
   "mimetype": "text/x-python",
   "name": "python",
   "nbconvert_exporter": "python",
   "pygments_lexer": "ipython3",
   "version": "3.12.7"
  }
 },
 "nbformat": 4,
 "nbformat_minor": 5
}
