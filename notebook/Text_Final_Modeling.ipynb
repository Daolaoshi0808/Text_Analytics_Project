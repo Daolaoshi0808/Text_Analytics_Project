{
 "cells": [
  {
   "cell_type": "code",
   "execution_count": 8,
   "id": "bdcb70f8-c344-48c0-adc9-92564c0a3c80",
   "metadata": {},
   "outputs": [],
   "source": [
    "from datasets import load_dataset\n",
    "import pandas as pd\n",
    "from nltk.corpus import stopwords\n",
    "from nltk.stem import WordNetLemmatizer\n",
    "import nltk\n",
    "from tqdm import tqdm\n",
    "from sklearn.model_selection import train_test_split\n",
    "from sklearn.naive_bayes import MultinomialNB\n",
    "from sklearn.feature_extraction.text import CountVectorizer\n",
    "from nltk.tokenize import sent_tokenize, word_tokenize\n",
    "from sklearn.metrics import classification_report, confusion_matrix, accuracy_score\n",
    "from sklearn.linear_model import LogisticRegression\n",
    "import re\n",
    "from transformers import pipeline\n",
    "import torch\n",
    "from sklearn.base import TransformerMixin\n",
    "from sklearn.pipeline import Pipeline\n",
    "from sklearn.feature_extraction.text import TfidfVectorizer\n",
    "from sklearn.model_selection import GridSearchCV\n",
    "import joblib\n",
    "import sys\n",
    "import os\n",
    "sys.path.append('../app')\n",
    "from text_cleaning_module import TextCleaner, load_clean_filtered_dataset"
   ]
  },
  {
   "cell_type": "code",
   "execution_count": 10,
   "id": "f72a5423-d958-4442-a041-dc01d0550ba1",
   "metadata": {},
   "outputs": [
    {
     "name": "stderr",
     "output_type": "stream",
     "text": [
      "100%|██████████| 3175/3175 [08:44<00:00,  6.06it/s] \n",
      "100%|██████████| 453/453 [01:25<00:00,  5.31it/s]\n",
      "100%|██████████| 908/908 [02:12<00:00,  6.86it/s]\n"
     ]
    }
   ],
   "source": [
    "df_train, df_val, df_test = load_clean_filtered_dataset()\n",
    "cleaner = TextCleaner()\n",
    "df_train[\"clean_case\"] = cleaner.transform(df_train[\"full_case\"])\n",
    "df_val[\"clean_case\"] = cleaner.transform(df_val[\"full_case\"])\n",
    "df_test[\"clean_case\"] = cleaner.transform(df_test[\"full_case\"])"
   ]
  },
  {
   "cell_type": "markdown",
   "id": "3248bd4f-aad4-42bb-a708-11463cad3c5b",
   "metadata": {},
   "source": [
    "## Case Action Sought Model"
   ]
  },
  {
   "cell_type": "code",
   "execution_count": 14,
   "id": "409d3071-5cfc-489a-b928-c67b5404c731",
   "metadata": {},
   "outputs": [
    {
     "name": "stdout",
     "output_type": "stream",
     "text": [
      "case_group\n",
      "Civil Rights        1438\n",
      "Criminal Justice     892\n",
      "Other                588\n",
      "Social Welfare       257\n",
      "Name: count, dtype: int64\n"
     ]
    }
   ],
   "source": [
    "# 1) Define your mapping\n",
    "group_map = {\n",
    "    # Criminal Justice\n",
    "    \"Immigration and/or the Border\":     \"Criminal Justice\",\n",
    "    \"Prison Conditions\":                 \"Criminal Justice\",\n",
    "    \"Jail Conditions\":                   \"Criminal Justice\",\n",
    "    \"Policing\":                          \"Criminal Justice\",\n",
    "    \"National Security\":                 \"Criminal Justice\",\n",
    "    \"Criminal Justice (Other)\":          \"Criminal Justice\",\n",
    "\n",
    "    # Civil Rights\n",
    "    \"Equal Employment\":                  \"Civil Rights\",\n",
    "    \"Fair Housing/Lending/Insurance\":    \"Civil Rights\",\n",
    "    \"Disability Rights-Pub. Accom.\":     \"Civil Rights\",\n",
    "    \"Speech and Religious Freedom\":      \"Civil Rights\",\n",
    "    \"Election/Voting Rights\":            \"Civil Rights\",\n",
    "\n",
    "    # Social Welfare\n",
    "    \"Public Benefits / Government Services\": \"Social Welfare\",\n",
    "    \"Public Accomm./Contracting\":        \"Social Welfare\",\n",
    "    \"Public Housing\":                    \"Social Welfare\",\n",
    "    \"Child Welfare\":                     \"Social Welfare\",\n",
    "    \"Nursing Home Conditions\":           \"Social Welfare\",\n",
    "}\n",
    "\n",
    "\n",
    "for df in (df_train, df_val, df_test):\n",
    "    df['case_group'] = df['case_type'].map(group_map).fillna(\"Other\")\n",
    "\n",
    "print(df_train['case_group'].value_counts())\n",
    "\n",
    "\n",
    "label_map = {\"Yes\": 1, \"No\": 0}\n",
    "y_train_sought = df_train[\"class_action_sought\"].map(label_map)\n",
    "y_val_sought   = df_val[\"class_action_sought\"].map(label_map)\n",
    "y_test_sought   = df_test[\"class_action_sought\"].map(label_map)\n",
    "\n",
    "y_train_group = df_train['case_group']\n",
    "y_val_group   = df_val['case_group']\n",
    "y_test_group= df_test['case_group']\n",
    "\n",
    "X_train = df_train[\"clean_case\"]\n",
    "X_val = df_val[\"clean_case\"]\n",
    "X_test = df_test[\"clean_case\"]"
   ]
  },
  {
   "cell_type": "code",
   "execution_count": 24,
   "id": "e436b62a-8e7f-4aba-83e7-6ada7c954351",
   "metadata": {
    "scrolled": true
   },
   "outputs": [
    {
     "name": "stdout",
     "output_type": "stream",
     "text": [
      "Test Accuracy: 0.9174008810572687\n",
      "              precision    recall  f1-score   support\n",
      "\n",
      "          No       0.92      0.96      0.94       619\n",
      "         Yes       0.91      0.82      0.86       289\n",
      "\n",
      "    accuracy                           0.92       908\n",
      "   macro avg       0.92      0.89      0.90       908\n",
      "weighted avg       0.92      0.92      0.92       908\n",
      "\n"
     ]
    },
    {
     "data": {
      "text/plain": [
       "['models/best_case_action_thought.joblib']"
      ]
     },
     "execution_count": 24,
     "metadata": {},
     "output_type": "execute_result"
    }
   ],
   "source": [
    "tqdm.pandas()\n",
    "best_params = {\n",
    "    \"tfidf__max_features\": 5000,\n",
    "    \"tfidf__ngram_range\": (1, 2),\n",
    "    \"clf__C\": 10\n",
    "}\n",
    "\n",
    "# Rebuild the pipeline\n",
    "final_pipe = Pipeline([\n",
    "    (\"tfidf\", TfidfVectorizer(\n",
    "        max_features=best_params[\"tfidf__max_features\"],\n",
    "        ngram_range=best_params[\"tfidf__ngram_range\"]\n",
    "    )),\n",
    "    (\"clf\", LogisticRegression(\n",
    "        C=best_params[\"clf__C\"],\n",
    "        max_iter=1000,\n",
    "        verbose=1\n",
    "    ))\n",
    "])\n",
    "\n",
    "# Fit on full training set\n",
    "final_pipe.fit(X_train, y_train_sought)\n",
    "\n",
    "# Predict on validation set\n",
    "y_test_pred = final_pipe.predict(X_test)\n",
    "\n",
    "print(\"Test Accuracy:\", accuracy_score(y_test_sought, y_test_pred))\n",
    "print(classification_report(y_test_sought, y_test_pred, target_names=[\"No\", \"Yes\"]))\n",
    "\n",
    "joblib.dump(final_pipe, \"models/best_case_action_sought.joblib\")\n"
   ]
  },
  {
   "cell_type": "markdown",
   "id": "d80e4262-b54e-4c48-ab81-77aff9beab39",
   "metadata": {},
   "source": [
    "## Case Type Modeling"
   ]
  },
  {
   "cell_type": "code",
   "execution_count": 29,
   "id": "fff5ff0b-fe54-4138-8922-e8c747de522f",
   "metadata": {},
   "outputs": [
    {
     "name": "stdout",
     "output_type": "stream",
     "text": [
      "Accuracy: 0.8931718061674009\n",
      "                  precision    recall  f1-score   support\n",
      "\n",
      "    Civil Rights       0.94      0.92      0.93       421\n",
      "Criminal Justice       0.86      0.95      0.90       249\n",
      "           Other       0.87      0.80      0.83       170\n",
      "  Social Welfare       0.77      0.75      0.76        68\n",
      "\n",
      "        accuracy                           0.89       908\n",
      "       macro avg       0.86      0.85      0.86       908\n",
      "    weighted avg       0.89      0.89      0.89       908\n",
      "\n"
     ]
    },
    {
     "data": {
      "text/plain": [
       "['models/best_case_type_model.joblib']"
      ]
     },
     "execution_count": 29,
     "metadata": {},
     "output_type": "execute_result"
    }
   ],
   "source": [
    "pipe = Pipeline([\n",
    "    (\"tfidf\", TfidfVectorizer(\n",
    "        max_features=20000,\n",
    "        ngram_range=(1, 1),\n",
    "    )),\n",
    "    (\"clf\", LogisticRegression(C=10, max_iter=1500, class_weight='balanced', verbose=2))\n",
    "])\n",
    "\n",
    "\n",
    "pipe.fit(X_train, y_train_group)\n",
    "#print(\"Best params:\", grid.best_params_)\n",
    "y_pred = pipe.predict(X_test)\n",
    "\n",
    "# Evaluate\n",
    "print(\"Accuracy:\", accuracy_score(y_test_group, y_pred))\n",
    "print(classification_report(y_test_group, y_pred))\n",
    "joblib.dump(pipe, \"models/best_case_type_model.joblib\")"
   ]
  }
 ],
 "metadata": {
  "kernelspec": {
   "display_name": "Python [conda env:base] *",
   "language": "python",
   "name": "conda-base-py"
  },
  "language_info": {
   "codemirror_mode": {
    "name": "ipython",
    "version": 3
   },
   "file_extension": ".py",
   "mimetype": "text/x-python",
   "name": "python",
   "nbconvert_exporter": "python",
   "pygments_lexer": "ipython3",
   "version": "3.12.7"
  }
 },
 "nbformat": 4,
 "nbformat_minor": 5
}
